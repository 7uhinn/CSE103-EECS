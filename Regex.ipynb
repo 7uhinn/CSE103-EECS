{
 "cells": [
  {
   "cell_type": "markdown",
   "metadata": {},
   "source": [
    "# Question 1\n",
    "## WAP to extract Line Contains both 'bubble' and 'gum'."
   ]
  },
  {
   "cell_type": "code",
   "execution_count": 1,
   "metadata": {},
   "outputs": [],
   "source": [
    "import re"
   ]
  },
  {
   "cell_type": "code",
   "execution_count": 2,
   "metadata": {},
   "outputs": [
    {
     "name": "stdout",
     "output_type": "stream",
     "text": [
      "I love bubble gum\n",
      "But bubble gum is good\n"
     ]
    }
   ],
   "source": [
    "s = \"I love bubble gum.Bubbles are not that.Gum is different.But bubble gum is good.\"\n",
    "t = re.split(r'\\.', s)\n",
    "for i in t:\n",
    "    if (re.search(r'bubble',i) and re.search(r'gum',i)):\n",
    "        print(i)"
   ]
  },
  {
   "cell_type": "markdown",
   "metadata": {},
   "source": [
    "# Question 2\n",
    "## WAP to find repeated words, such as \"the the\""
   ]
  },
  {
   "cell_type": "code",
   "execution_count": 3,
   "metadata": {},
   "outputs": [
    {
     "name": "stdout",
     "output_type": "stream",
     "text": [
      "[('the', ' the'), ('very', ' very')]\n"
     ]
    }
   ],
   "source": [
    "s = \"Why is the the melody very very chocolaty.\"\n",
    "result = re.findall(r'(\\b\\w+\\b)(\\s+\\1)+',s)\n",
    "print(result)"
   ]
  },
  {
   "cell_type": "markdown",
   "metadata": {},
   "source": [
    "# Question 3\n",
    "## WAP to extract Line Contains 'bubble' but Neither 'gum' Nor 'bath' .\n"
   ]
  },
  {
   "cell_type": "code",
   "execution_count": 4,
   "metadata": {},
   "outputs": [
    {
     "name": "stdout",
     "output_type": "stream",
     "text": [
      " bubble is nice\n"
     ]
    }
   ],
   "source": [
    "s = \"bubble gum is good in bath. bath takes bubble. bubble is nice.\"\n",
    "t = re.split(r'\\.',s)\n",
    "for i in t:\n",
    "    if(re.search(r'bubble',i) and (not (re.search(r'bath',i)) ) and (not (re.search(r'gum',i)))):\n",
    "        print(i)"
   ]
  },
  {
   "cell_type": "markdown",
   "metadata": {},
   "source": [
    "# Question 4\n",
    "## WAP to verify IP address."
   ]
  },
  {
   "cell_type": "code",
   "execution_count": 5,
   "metadata": {},
   "outputs": [
    {
     "name": "stdin",
     "output_type": "stream",
     "text": [
      " 1.2.3\n"
     ]
    },
    {
     "name": "stdout",
     "output_type": "stream",
     "text": [
      "Invalid\n"
     ]
    }
   ],
   "source": [
    "s = input()\n",
    "zerototff = \"(\\\\d{1, 2}|(0|1)\\\\d{2}|2[0-4]\\\\d|25[0-5])\"\n",
    "r = zerototff + \"\\\\.\" + zerototff + \"\\\\.\" + zerototff + \"\\\\.\" + zerototff\n",
    "if re.match(r,s):\n",
    "    print('Valid')\n",
    "else:\n",
    "    print('Invalid')"
   ]
  },
  {
   "cell_type": "markdown",
   "metadata": {},
   "source": [
    "# Question 5 \n",
    "## WAP to extract email-ids and passwords from a file and print them using regex (use gmail/srmap email rules)"
   ]
  },
  {
   "cell_type": "code",
   "execution_count": 6,
   "metadata": {},
   "outputs": [
    {
     "name": "stdout",
     "output_type": "stream",
     "text": [
      "Email :aayusi_biswas@srmap.edu.in\n",
      "\n",
      "Email :hello@srmap.edu.in\n"
     ]
    }
   ],
   "source": [
    "f = open(\"ep.txt\",'r')\n",
    "t = ' '\n",
    "while(f):\n",
    "    t = f.readline()\n",
    "    if(t!=''):\n",
    "        #using rules for srmap email address\n",
    "        if(re.search(r'^[a-z0-9]+[\\._]?[a-z0-9]+@srmap.edu.in', t)):\n",
    "            print(\"Email :\" + t)\n",
    "    else:\n",
    "        break\n",
    "f.close()"
   ]
  },
  {
   "cell_type": "markdown",
   "metadata": {},
   "source": [
    "# Question 6\n",
    "## WAP to print all ascending order strings from a file"
   ]
  },
  {
   "cell_type": "code",
   "execution_count": 7,
   "metadata": {},
   "outputs": [
    {
     "name": "stdout",
     "output_type": "stream",
     "text": [
      "Strings that are in ascending order: \n",
      "aay\n",
      "\n",
      "aaaaa\n",
      "\n",
      "aadft\n",
      "\n",
      "bello\n"
     ]
    }
   ],
   "source": [
    "f = open(\"string.txt\",'r')\n",
    "print(\"Strings that are in ascending order: \")\n",
    "t = ' '\n",
    "while(f):\n",
    "    t = f.readline()\n",
    "    if (t!=''):\n",
    "        if(re.search(r'^A*B*C*D*E*F*G*H*I*J*K*L*M*N*O*P*Q*R*S*T*U*V*Q*X*Y*Z*a*b*c*d*e*f*g*h*i*j*k*l*m*n*o*p*q*r*s*t*u*v*w*x*y*z*$', t)):\n",
    "            print(t)\n",
    "    else:\n",
    "        break\n",
    "f.close()"
   ]
  },
  {
   "cell_type": "markdown",
   "metadata": {},
   "source": [
    "# Question 7\n",
    "## WAP to read a file and comment first 10 lines from the file using regex and write new contents into another file"
   ]
  },
  {
   "cell_type": "code",
   "execution_count": 11,
   "metadata": {},
   "outputs": [
    {
     "name": "stdout",
     "output_type": "stream",
     "text": [
      "#aay\n",
      "\n",
      "#AAYUSI\n",
      "\n",
      "#AaSs\n",
      "\n",
      "#SaS\n",
      "\n",
      "#aaaaa\n",
      "\n",
      "#asdwc\n",
      "\n",
      "#nkjws\n",
      "\n",
      "#mnswd\n",
      "\n",
      "#aadft\n",
      "\n",
      "#poipr\n",
      "\n"
     ]
    }
   ],
   "source": [
    "f = open(\"string.txt\",'r')\n",
    "fi = open(\"new.txt\",'w')\n",
    "c = 0\n",
    "while(f and c<10):\n",
    "    t = f.readline()\n",
    "    if(t!=''):\n",
    "        r = re.compile('^')\n",
    "        n = r.sub(\"#\" ,t)\n",
    "        fi.write(n)\n",
    "        print(n)\n",
    "        c = c +1\n",
    "    else:\n",
    "        break\n",
    "while(f and c>=10):\n",
    "    t = f.readline()\n",
    "    if(t==''):\n",
    "        fi.write(t)\n",
    "        print(t)\n",
    "    else:\n",
    "        break\n",
    "f.close()"
   ]
  },
  {
   "cell_type": "markdown",
   "metadata": {},
   "source": [
    "# Question 8\n",
    "## WAP to read a file and print lines which start and ends with same word\n"
   ]
  },
  {
   "cell_type": "code",
   "execution_count": 12,
   "metadata": {},
   "outputs": [
    {
     "name": "stdout",
     "output_type": "stream",
     "text": [
      "This is a new text file this.\n",
      "\n",
      "Dogs are faithful dogs\n",
      "\n",
      "Nine whatevr nine.\n",
      "\n"
     ]
    }
   ],
   "source": [
    "f = open(\"file.txt\",'r')\n",
    "t = ' '\n",
    "while(f):\n",
    "    t = f.readline()\n",
    "    if(t!=''):\n",
    "        s = re.findall(r'^\\w+',t)\n",
    "        l = re.findall(r'(\\w+|\\w+.)$',t)\n",
    "        p = l[0]\n",
    "        if(p[len(p)-1] == '.'):\n",
    "            l[0] = l[0][:-1]\n",
    "        if(s[0].lower() == l[0].lower()):\n",
    "            print(t)\n",
    "    else:\n",
    "        break\n",
    "f.close()"
   ]
  },
  {
   "cell_type": "markdown",
   "metadata": {},
   "source": [
    "# Question 9\n",
    "## WAP to read a HTML file and print all tags (e.g., < html >,< body >,< title >,etc.)"
   ]
  },
  {
   "cell_type": "code",
   "execution_count": 13,
   "metadata": {},
   "outputs": [
    {
     "name": "stdout",
     "output_type": "stream",
     "text": [
      "['<html>', '<body>', '</body>', '</html>']\n"
     ]
    }
   ],
   "source": [
    "f = open(\"hello.html\",'r')\n",
    "t = f.read()\n",
    "r = re.findall(r'<[^>]+>',t)\n",
    "print(r)\n",
    "f.close()"
   ]
  },
  {
   "cell_type": "markdown",
   "metadata": {},
   "source": [
    "# Question 10\n",
    "## WAP to read a XML file and print contents of tags (e.g., < id>100<\\id>< name>SRM<\\name>)"
   ]
  },
  {
   "cell_type": "code",
   "execution_count": 20,
   "metadata": {},
   "outputs": [
    {
     "name": "stdout",
     "output_type": "stream",
     "text": [
      "['<to>Tove</to>', '<from>Jani</from>', '<heading>Reminder</heading>', \"<body>Don't forget me this weekend!</body>\"]\n"
     ]
    }
   ],
   "source": [
    "f = open(\"new.xml\",'r')\n",
    "t = f.read()\n",
    "r = re.findall(r'<\\w+>.*</\\w+>',t)\n",
    "print(r)\n",
    "f.close()"
   ]
  }
 ],
 "metadata": {
  "kernelspec": {
   "display_name": "Python 3",
   "language": "python",
   "name": "python3"
  },
  "language_info": {
   "codemirror_mode": {
    "name": "ipython",
    "version": 3
   },
   "file_extension": ".py",
   "mimetype": "text/x-python",
   "name": "python",
   "nbconvert_exporter": "python",
   "pygments_lexer": "ipython3",
   "version": "3.8.1"
  }
 },
 "nbformat": 4,
 "nbformat_minor": 4
}
